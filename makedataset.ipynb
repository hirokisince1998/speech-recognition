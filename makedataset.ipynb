{
 "cells": [
  {
   "cell_type": "code",
   "execution_count": 11,
   "metadata": {},
   "outputs": [],
   "source": [
    "import numpy as np\n",
    "import os\n",
    "from os.path import basename, splitext\n",
    "from glob import glob\n",
    "from sklearn.preprocessing import LabelEncoder\n",
    "import pandas as pd"
   ]
  },
  {
   "cell_type": "code",
   "execution_count": 12,
   "metadata": {},
   "outputs": [],
   "source": [
    "def getATRforset(speaker, list):\n",
    "    dbhome = \"/var/tmp/hiroki/ATRPB\"\n",
    "    dataset = []\n",
    "    lablistlist = []\n",
    "\n",
    "    for s in list:\n",
    "        pattern = \"{}/{}/MFCC/{}SD{}*.mfcc\".format(dbhome,speaker,speaker,s)\n",
    "        for file in sorted(glob(pattern)):\n",
    "            with open(file, \"rb\") as f:\n",
    "                f.seek(12, os.SEEK_SET)\n",
    "                X = np.fromfile(f, dtype=np.float32).byteswap(True)\n",
    "            X = np.reshape(X, (-1,26))\n",
    "            bn, ext = splitext(basename(file))            \n",
    "            labfn = \"{}/{}/lab/{}.lab\".format(dbhome,speaker,bn)\n",
    "            lab_df = pd.read_table(labfn, header=None, sep=' ',\n",
    "                                   names=(\"starttime\",\"endtime\",\"phone\"))\n",
    "            labs = le.transform(lab_df[\"phone\"].values)\n",
    "            lablistlist.append(labs)\n",
    "            t = align_phonelabel(len(X), lab_df)\n",
    "            \n",
    "            dataset.append((X,t,labs))\n",
    "            \n",
    "    # llen = np.array([len(x) for x in lablistlist])\n",
    "    # l = np.zeros([len(lablistlist),np.max(llen)])     # l = np.zeros([len(lablistlist),len(max(lablistlist, key = lambda x: len(x)))])\n",
    "\n",
    "    # for i,j in enumerate(lablistlist):\n",
    "    #     l[i][0:len(j)] = j\n",
    "\n",
    "    # for i,x in enumerate(dataset):\n",
    "    #     dataset[i] = dataset[i] + (l[i],llen[i])\n",
    "        \n",
    "    return dataset"
   ]
  },
  {
   "cell_type": "code",
   "execution_count": 13,
   "metadata": {},
   "outputs": [],
   "source": [
    "def align_phonelabel(numframes, lab_df):\n",
    "    frame_shift_in_100nsec = 100000\n",
    "    label_feature_array = np.empty(numframes, dtype=np.int16)\n",
    "    label_feature_index = 0\n",
    "    labint = le.transform(lab_df[\"phone\"].values)\n",
    "    for index, row in lab_df.iterrows():\n",
    "        acc_frame_number = int(row['endtime'] / frame_shift_in_100nsec)\n",
    "        frame_number = acc_frame_number - label_feature_index\n",
    "        label_feature_array[label_feature_index:label_feature_index +\n",
    "                             frame_number] = labint[index]\n",
    "        label_feature_index = label_feature_index + frame_number\n",
    "    label_feature_array[label_feature_index:] = labint[index] # 最後の数合わせ\n",
    "    \n",
    "    return label_feature_array"
   ]
  },
  {
   "cell_type": "code",
   "execution_count": 14,
   "metadata": {},
   "outputs": [],
   "source": [
    "with open('phones') as f:\n",
    "    phones = f.read().splitlines()\n",
    "le = LabelEncoder()\n",
    "le.fit(phones)\n",
    "train = getATRforset(\"MHT\", [\"A\", \"B\", \"C\", \"D\", \"E\", \"F\", \"G\", \"H\", \"I\"])\n",
    "test = getATRforset(\"MHT\", [\"J\"])"
   ]
  },
  {
   "cell_type": "code",
   "execution_count": 15,
   "metadata": {},
   "outputs": [],
   "source": [
    "np.save(\"MHT-train.npy\",train)\n",
    "np.save(\"MHT-test.npy\",test)"
   ]
  },
  {
   "cell_type": "code",
   "execution_count": 16,
   "metadata": {},
   "outputs": [
    {
     "data": {
      "text/plain": [
       "(array([[-1.36502876e+01,  4.45860434e+00,  1.63271999e+00, ...,\n",
       "         -3.18116575e-01,  8.79843354e-01, -6.73822388e-02],\n",
       "        [-1.39195824e+01,  3.60357690e+00,  5.48293495e+00, ...,\n",
       "          7.10672081e-01,  1.33325374e+00,  3.99609581e-02],\n",
       "        [-1.33244543e+01,  2.84960127e+00,  8.78625572e-01, ...,\n",
       "          1.45840299e+00,  1.13568723e+00,  7.73014054e-02],\n",
       "        ...,\n",
       "        [-1.28710375e+01,  3.11375189e+00, -2.00585082e-01, ...,\n",
       "         -8.11767590e-04, -5.21343052e-01,  6.20312691e-02],\n",
       "        [-1.32679739e+01,  3.07930446e+00,  1.80565178e+00, ...,\n",
       "         -1.89365840e+00, -7.34460950e-01, -1.62603185e-01],\n",
       "        [-1.27652187e+01,  3.27643180e+00,  1.88629937e+00, ...,\n",
       "         -1.90092981e+00, -4.69906718e-01, -1.60786912e-01]], dtype=float32),\n",
       " array([34, 34, 34, 34, 34, 34, 34, 34, 34, 34, 34, 34, 34, 34, 34, 34, 34,\n",
       "        34,  9,  9,  9,  9,  9,  9,  9,  9,  9,  9,  9,  9,  9,  9,  9,  9,\n",
       "        18, 18, 18, 18, 18, 18, 18, 18, 18, 18, 18, 32, 32, 32, 32, 32, 32,\n",
       "        32, 32, 32, 32,  6,  6,  6,  6,  6,  6, 24, 24, 24, 24,  6,  6,  6,\n",
       "         6,  6,  6,  6,  6,  6, 37, 37, 37, 37, 37, 37, 37, 37, 37, 24, 24,\n",
       "        24, 24, 24,  6,  6,  6,  6,  6,  6,  6,  6, 14, 14, 14, 14, 14, 14,\n",
       "        14, 14, 18, 18, 18, 18, 18, 18, 18, 39, 39, 39, 39, 39, 39, 39,  6,\n",
       "         6,  6,  6,  6,  6,  6,  6, 24, 24, 24, 24, 18, 18, 18, 18, 18, 18,\n",
       "        18, 18, 18, 18, 18, 18, 18, 18, 18, 28, 28, 28, 28, 28, 28, 28, 28,\n",
       "        28, 28, 28, 28, 28, 28, 28, 28, 28, 28, 28, 28, 28, 28, 28, 28, 28,\n",
       "        28, 28, 28, 28, 28, 28, 28, 28, 28, 28, 28, 24, 24, 24, 24, 24, 12,\n",
       "        12, 12, 12, 12, 12, 12, 12, 12,  3,  3,  3,  3,  3,  3,  3,  3,  3,\n",
       "         3,  3, 20, 20, 20, 20, 20, 18, 18, 18, 18, 18, 24, 24, 24, 24, 24,\n",
       "        26, 26, 26, 26, 26, 26, 39, 39, 39, 39, 39, 39, 39, 26, 26, 26, 26,\n",
       "        26, 26, 26, 26, 26, 26, 26, 26, 26, 24, 24, 24, 24, 24,  6,  6,  6,\n",
       "         6,  6,  6, 22, 22, 22, 22, 22, 22, 22, 26, 26, 26, 26, 26, 24, 24,\n",
       "        24, 24, 24, 26, 26, 26, 26, 14, 14, 14, 14, 14, 14, 14, 14,  6,  6,\n",
       "         6,  6,  6,  6,  6,  6, 22, 22, 22, 22, 22, 22, 22, 22, 22, 18, 18,\n",
       "        18, 18, 18, 18, 24, 24, 24, 24, 24, 24,  6,  6,  6,  6,  6,  6,  6,\n",
       "         6,  6, 14, 14, 14, 14, 14, 14, 14, 14, 14, 18, 18, 18, 18, 18, 18,\n",
       "        18, 18, 18, 30, 30, 30, 30, 30, 37, 37, 37, 37, 37, 37, 37, 37, 34,\n",
       "        34, 34, 34, 34, 34, 34, 34, 34, 34, 34, 34, 34, 34, 34, 34, 34, 34,\n",
       "        34, 34, 34, 34, 34, 34, 34], dtype=int16),\n",
       " array([34,  9, 18, 18, 32,  6, 24,  6, 37, 24,  6, 14, 18, 39,  6, 24, 18,\n",
       "        28, 24, 12,  3, 20, 18, 24, 26, 39, 26, 26, 24,  6, 22, 26, 24, 26,\n",
       "        14,  6, 22, 18, 24,  6, 14, 18, 30, 37, 34]))"
      ]
     },
     "execution_count": 16,
     "metadata": {},
     "output_type": "execute_result"
    }
   ],
   "source": [
    "test[0]"
   ]
  },
  {
   "cell_type": "code",
   "execution_count": null,
   "metadata": {},
   "outputs": [],
   "source": []
  }
 ],
 "metadata": {
  "kernelspec": {
   "display_name": "Python 3",
   "language": "python",
   "name": "python3"
  },
  "language_info": {
   "codemirror_mode": {
    "name": "ipython",
    "version": 3
   },
   "file_extension": ".py",
   "mimetype": "text/x-python",
   "name": "python",
   "nbconvert_exporter": "python",
   "pygments_lexer": "ipython3",
   "version": "3.6.5"
  }
 },
 "nbformat": 4,
 "nbformat_minor": 2
}
